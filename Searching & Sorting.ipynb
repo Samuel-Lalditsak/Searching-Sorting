{
 "cells": [
  {
   "cell_type": "markdown",
   "metadata": {},
   "source": [
    "### 1. Implement Binary Search"
   ]
  },
  {
   "cell_type": "code",
   "execution_count": 1,
   "metadata": {},
   "outputs": [],
   "source": [
    "def binary_search(list, target, start, end):\n",
    "  while start <= end:\n",
    "    mid = (start + end) // 2\n",
    "    if list[mid] == target:\n",
    "      return mid\n",
    "    elif list[mid] > target:\n",
    "      end = mid - 1\n",
    "    else:\n",
    "      start = mid + 1\n",
    "  return -1"
   ]
  },
  {
   "cell_type": "markdown",
   "metadata": {},
   "source": [
    "### 2. Implement Merge Sort"
   ]
  },
  {
   "cell_type": "code",
   "execution_count": 2,
   "metadata": {},
   "outputs": [],
   "source": [
    "def binary_search(list, target, start, end):\n",
    "  while start <= end:\n",
    "    mid = (start + end) // 2\n",
    "    if list[mid] == target:\n",
    "      return mid\n",
    "    elif list[mid] > target:\n",
    "      end = mid - 1\n",
    "    else:\n",
    "      start = mid + 1\n",
    "  return -1\n",
    "def merge_sort(list):\n",
    "  if len(list) <= 1:\n",
    "    return list\n",
    "  mid = len(list) // 2\n",
    "  left_half = list[:mid]\n",
    "  right_half = list[mid:]\n",
    "  left_half = merge_sort(left_half)\n",
    "  right_half = merge_sort(right_half)\n",
    "  return merge(left_half, right_half)\n",
    "def merge(left_half, right_half):\n",
    "  merged_list = []\n",
    "  while left_half and right_half:\n",
    "    if left_half[0] <= right_half[0]:\n",
    "      merged_list.append(left_half[0])\n",
    "      left_half = left_half[1:]\n",
    "    else:\n",
    "      merged_list.append(right_half[0])\n",
    "      right_half = right_half[1:]\n",
    "  merged_list.extend(left_half)\n",
    "  merged_list.extend(right_half)\n",
    "  return merged_list"
   ]
  },
  {
   "cell_type": "markdown",
   "metadata": {},
   "source": [
    "### 3. Implement Quick Sort"
   ]
  },
  {
   "cell_type": "code",
   "execution_count": 3,
   "metadata": {},
   "outputs": [],
   "source": [
    "def quick_sort(list):\n",
    "  if len(list) <= 1:\n",
    "    return list\n",
    "  pivot = list[0]\n",
    "  left_half = []\n",
    "  right_half = []\n",
    "  for i in range(1, len(list)):\n",
    "    if list[i] <= pivot:\n",
    "      left_half.append(list[i])\n",
    "    else:\n",
    "      right_half.append(list[i])\n",
    "  left_half = quick_sort(left_half)\n",
    "  right_half = quick_sort(right_half)\n",
    "  return left_half + [pivot] + right_half"
   ]
  },
  {
   "cell_type": "markdown",
   "metadata": {},
   "source": [
    "### 4. Implement Insertion Sort"
   ]
  },
  {
   "cell_type": "code",
   "execution_count": 4,
   "metadata": {},
   "outputs": [],
   "source": [
    "def insertion_sort(list):\n",
    "  for i in range(1, len(list)):\n",
    "    current_element = list[i]\n",
    "    j = i - 1\n",
    "    while j >= 0 and current_element < list[j]:\n",
    "      list[j + 1] = list[j]\n",
    "      j -= 1\n",
    "    list[j + 1] = current_element\n",
    "  return list"
   ]
  },
  {
   "cell_type": "markdown",
   "metadata": {},
   "source": [
    "### 5. Write a program to sort list of strings (similar to that of dictionary)"
   ]
  },
  {
   "cell_type": "code",
   "execution_count": 5,
   "metadata": {},
   "outputs": [],
   "source": [
    "def sort_strings(list):\n",
    "  list.sort(key=lambda x: x.lower())\n",
    "  return list"
   ]
  }
 ],
 "metadata": {
  "interpreter": {
   "hash": "aee8b7b246df8f9039afb4144a1f6fd8d2ca17a180786b69acc140d282b71a49"
  },
  "kernelspec": {
   "display_name": "Python 3.11.4 64-bit",
   "language": "python",
   "name": "python3"
  },
  "language_info": {
   "codemirror_mode": {
    "name": "ipython",
    "version": 3
   },
   "file_extension": ".py",
   "mimetype": "text/x-python",
   "name": "python",
   "nbconvert_exporter": "python",
   "pygments_lexer": "ipython3",
   "version": "3.11.4"
  },
  "orig_nbformat": 4
 },
 "nbformat": 4,
 "nbformat_minor": 2
}
